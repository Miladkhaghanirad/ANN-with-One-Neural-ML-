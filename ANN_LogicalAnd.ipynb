{
 "cells": [
  {
   "cell_type": "markdown",
   "metadata": {},
   "source": [
    "# Using numpy bibliothek to run ANN with 1 Neural Caculating \"logical And\""
   ]
  },
  {
   "cell_type": "code",
   "execution_count": 26,
   "metadata": {},
   "outputs": [
    {
     "name": "stdout",
     "output_type": "stream",
     "text": [
      "Beginnig randomly Generated Weights: \n",
      "[[-0.16595599]\n",
      " [ 0.44064899]\n",
      " [-0.99977125]]\n",
      "Ending Weights After Training:  \n",
      "[[-1.78090149e-06]\n",
      " [-1.78090149e-06]\n",
      " [-7.45531948e+00]]\n"
     ]
    }
   ],
   "source": [
    "import numpy as np\n",
    "\n",
    "class NeutalNetwork():\n",
    "    def __init__(self):\n",
    "        np.random.seed(1)\n",
    "        \n",
    "        self.synaptic_weights = 2 * np.random.random((3, 1)) -1\n",
    "        \n",
    "    def sigmoid(self, x):\n",
    "        return 1 / (1 + np.exp(-x))\n",
    "    \n",
    "    def sigmoid_derivative(self, x):\n",
    "        return x * (1 - x)\n",
    "    \n",
    "    def train(self,training_inputs, training_outputs, training_iterations):\n",
    "        \n",
    "        for iteration in range(training_iterations):\n",
    "            output = self.think(training_inputs)\n",
    "            \n",
    "            error = training_outputs - output\n",
    "            \n",
    "            adjusments = np.dot(training_inputs.T, error * self.sigmoid_derivative(output))\n",
    "            \n",
    "            self.synaptic_weights += adjusments\n",
    "            \n",
    "    def think(self, inputs):\n",
    "        \n",
    "        inputs = inputs.astype(float)\n",
    "        output = self.sigmoid(np.dot(inputs, self.synaptic_weights))\n",
    "        return output\n",
    "    \n",
    "if __name__ == \"__main__\":\n",
    "    neural_network = NeutalNetwork()\n",
    "    \n",
    "    print(\"Beginnig randomly Generated Weights: \")\n",
    "    print(neural_network.synaptic_weights)\n",
    "    \n",
    "    training_inputs = np.array([[0,0,0],\n",
    "                                [0,0,1],\n",
    "                                [0,1,0],\n",
    "                                [0,1,1],\n",
    "                                [1,0,0],\n",
    "                                [1,0,1],\n",
    "                                [1,1,0]])\n",
    "    \n",
    "    training_outputs = np.array([[0,0,1,0,1,0,0]]).T\n",
    "    \n",
    "    neural_network.train (training_inputs,training_outputs, 500000)\n",
    "    \n",
    "    \n",
    "    print(\"Ending Weights After Training:  \")\n",
    "    print(neural_network.synaptic_weights)\n",
    "    \n",
    "   \n",
    "    \n",
    "    \n",
    "    \n",
    "    "
   ]
  },
  {
   "cell_type": "code",
   "execution_count": 28,
   "metadata": {},
   "outputs": [
    {
     "name": "stdout",
     "output_type": "stream",
     "text": [
      "User Input One: 1\n",
      "User Input two: 1\n",
      "User Input three: 1\n",
      "Considering New Situation:  1 1 1\n",
      "New Output data: \n",
      "[0.00057802]\n",
      "Now , we did it!\n"
     ]
    }
   ],
   "source": [
    "    user_input_one = str(input(\"User Input One: \"))\n",
    "    user_input_two = str(input(\"User Input two: \"))\n",
    "    user_input_three = str(input(\"User Input three: \"))\n",
    "    \n",
    "    print(\"Considering New Situation: \", user_input_one,user_input_two,user_input_three)\n",
    "    print(\"New Output data: \")\n",
    "    print(neural_network.think(np.array([user_input_one, user_input_two, user_input_three])))\n",
    "    print(\"Now , we did it!\")"
   ]
  },
  {
   "cell_type": "code",
   "execution_count": null,
   "metadata": {},
   "outputs": [],
   "source": []
  }
 ],
 "metadata": {
  "kernelspec": {
   "display_name": "Python 3",
   "language": "python",
   "name": "python3"
  },
  "language_info": {
   "codemirror_mode": {
    "name": "ipython",
    "version": 3
   },
   "file_extension": ".py",
   "mimetype": "text/x-python",
   "name": "python",
   "nbconvert_exporter": "python",
   "pygments_lexer": "ipython3",
   "version": "3.6.9"
  }
 },
 "nbformat": 4,
 "nbformat_minor": 4
}
